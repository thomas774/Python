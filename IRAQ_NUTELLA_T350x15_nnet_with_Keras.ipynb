{
  "nbformat": 4,
  "nbformat_minor": 0,
  "metadata": {
    "colab": {
      "name": "IRAQ NUTELLA T350x15 - nnet with Keras.ipynb",
      "version": "0.3.2",
      "provenance": [],
      "collapsed_sections": [],
      "include_colab_link": true
    },
    "kernelspec": {
      "name": "python3",
      "display_name": "Python 3"
    }
  },
  "cells": [
    {
      "cell_type": "markdown",
      "metadata": {
        "id": "view-in-github",
        "colab_type": "text"
      },
      "source": [
        "<a href=\"https://colab.research.google.com/github/thomas774/Python/blob/master/IRAQ_NUTELLA_T350x15_nnet_with_Keras.ipynb\" target=\"_parent\"><img src=\"https://colab.research.google.com/assets/colab-badge.svg\" alt=\"Open In Colab\"/></a>"
      ]
    },
    {
      "metadata": {
        "id": "l6V23d94VC6h",
        "colab_type": "text"
      },
      "cell_type": "markdown",
      "source": [
        "******************************* **WARNING : Please do not forget to update the name of the output files for SFA file and for prediction file**\n",
        "\n",
        "\n",
        "\n",
        "\n",
        "\n",
        "******************************* **WARNING**\n",
        "\n",
        "*************************************************************************************************************************"
      ]
    },
    {
      "metadata": {
        "id": "llXkZtvswZ-O",
        "colab_type": "code",
        "colab": {}
      },
      "cell_type": "code",
      "source": [
        "from keras.models import Sequential\n",
        "from keras.layers import Dense\n",
        "import numpy as np\n",
        "import pandas as pd\n",
        "# fix random seed for reproducibility\n",
        "np.random.seed(7)"
      ],
      "execution_count": 0,
      "outputs": []
    },
    {
      "metadata": {
        "id": "_ON_x3brwnGi",
        "colab_type": "code",
        "outputId": "39fb8f72-39da-4316-90c1-07cb841ce8c6",
        "colab": {
          "base_uri": "https://localhost:8080/",
          "height": 34
        }
      },
      "cell_type": "code",
      "source": [
        "import os\n",
        "\n",
        "from google.colab import drive\n",
        "drive.mount('/content/gdrive')"
      ],
      "execution_count": 0,
      "outputs": [
        {
          "output_type": "stream",
          "text": [
            "Drive already mounted at /content/gdrive; to attempt to forcibly remount, call drive.mount(\"/content/gdrive\", force_remount=True).\n"
          ],
          "name": "stdout"
        }
      ]
    },
    {
      "metadata": {
        "id": "fGG5ZVQqwoPX",
        "colab_type": "text"
      },
      "cell_type": "markdown",
      "source": [
        "**I) EVALUATE SFA RESULTS**"
      ]
    },
    {
      "metadata": {
        "id": "lqe8Y9vIwwF1",
        "colab_type": "code",
        "colab": {}
      },
      "cell_type": "code",
      "source": [
        "# Import the data set\n",
        "Train = pd.read_csv(\"/content/gdrive/My Drive/ML FERRERO/Iraq/Nutella/T350x15/Test past Sales Forecast Accuracy/Train/IRAQ_NUTELLA_T350x15.csv\")\n",
        "Test = pd.read_csv(\"/content/gdrive/My Drive/ML FERRERO/Iraq/Nutella/T350x15/Test past Sales Forecast Accuracy/Test/IRAQ_NUTELLA_T350x15.csv\")\n",
        "\n",
        "Train_X, Train_Y = Train.iloc[:,4:6], Train.iloc[:,8:9]\n",
        "Test_X, Test_Y = Test.iloc[:,4:6], Test.iloc[:,8:9]"
      ],
      "execution_count": 0,
      "outputs": []
    },
    {
      "metadata": {
        "id": "kqYcjc2S0B9j",
        "colab_type": "code",
        "colab": {}
      },
      "cell_type": "code",
      "source": [
        "# create model\n",
        "model = Sequential()\n",
        "model.add(Dense(8, input_dim=2, activation='linear'))\n",
        "#model.add(Dense(4, activation='linear'))\n",
        "model.add(Dense(1, activation='linear'))"
      ],
      "execution_count": 0,
      "outputs": []
    },
    {
      "metadata": {
        "id": "UFpVKBp11Gjg",
        "colab_type": "code",
        "colab": {}
      },
      "cell_type": "code",
      "source": [
        "from keras import optimizers\n",
        "\n",
        "# Loss function\n",
        "#def root_mean_squared_error(y_true, y_pred):\n",
        "#        return np.sqrt(np.mean(np.square(y_pred - y_true), axis=-1))\n",
        "\n",
        "# Optimizer\n",
        "sgd = optimizers.SGD(lr=0.0000001, decay=1e-6, momentum=0.9, nesterov=True)\n",
        "\n",
        "# Compile model\n",
        "model.compile(loss='mean_squared_error', optimizer=sgd, metrics=['mae'])"
      ],
      "execution_count": 0,
      "outputs": []
    },
    {
      "metadata": {
        "id": "5CsfOos_10nl",
        "colab_type": "code",
        "outputId": "fe275f4d-91e8-4059-88e8-804d8610a050",
        "colab": {
          "base_uri": "https://localhost:8080/",
          "height": 34
        }
      },
      "cell_type": "code",
      "source": [
        "# Fit the model\n",
        "model.fit(Train_X, Train_Y, epochs=150, batch_size=10, verbose=0)"
      ],
      "execution_count": 0,
      "outputs": [
        {
          "output_type": "execute_result",
          "data": {
            "text/plain": [
              "<keras.callbacks.History at 0x7ff2937dbb38>"
            ]
          },
          "metadata": {
            "tags": []
          },
          "execution_count": 9
        }
      ]
    },
    {
      "metadata": {
        "id": "1rLJ8nVW6K6D",
        "colab_type": "code",
        "outputId": "4c8f768c-759a-48b1-964d-2863f40e1016",
        "colab": {
          "base_uri": "https://localhost:8080/",
          "height": 68
        }
      },
      "cell_type": "code",
      "source": [
        "# evaluate the model\n",
        "scores = model.evaluate(Test_X, Test_Y)\n",
        "print(\"\\n%s: %.2f\" % (model.metrics_names[1], scores[1]))"
      ],
      "execution_count": 0,
      "outputs": [
        {
          "output_type": "stream",
          "text": [
            "\r3/3 [==============================] - 0s 6ms/step\n",
            "\n",
            "mean_absolute_error: 139.74\n"
          ],
          "name": "stdout"
        }
      ]
    },
    {
      "metadata": {
        "id": "d1dzkj8r7R2M",
        "colab_type": "code",
        "outputId": "8cd61468-bd38-4022-e84b-c945858a8983",
        "colab": {
          "base_uri": "https://localhost:8080/",
          "height": 68
        }
      },
      "cell_type": "code",
      "source": [
        "# calculate predictions\n",
        "predictions = model.predict(Test_X)\n",
        "# round predictions\n",
        "rounded = [round(x[0]) for x in predictions]\n",
        "print(predictions)"
      ],
      "execution_count": 0,
      "outputs": [
        {
          "output_type": "stream",
          "text": [
            "[[430.42914]\n",
            " [440.49188]\n",
            " [449.0775 ]]\n"
          ],
          "name": "stdout"
        }
      ]
    },
    {
      "metadata": {
        "id": "vwI1mIyB8VWr",
        "colab_type": "code",
        "outputId": "a59ca52e-ef46-46b7-968a-91ff0dd6ae35",
        "colab": {
          "base_uri": "https://localhost:8080/",
          "height": 34
        }
      },
      "cell_type": "code",
      "source": [
        "# Calculate SFA\n",
        "Result = pd.DataFrame(predictions)\n",
        "Result['ini'] = Test_Y\n",
        "SFA = 1-(abs(sum(Result[0])-sum(Result['ini']))/sum(Result['ini']))\n",
        "SFA*100, sum(Result[0]), sum(Result['ini'])"
      ],
      "execution_count": 0,
      "outputs": [
        {
          "output_type": "execute_result",
          "data": {
            "text/plain": [
              "(53.46193670622698, 1319.99853515625, 900.7888499999999)"
            ]
          },
          "metadata": {
            "tags": []
          },
          "execution_count": 12
        }
      ]
    },
    {
      "metadata": {
        "id": "Uxbq9NWBF3Xb",
        "colab_type": "code",
        "colab": {}
      },
      "cell_type": "code",
      "source": [
        "# Create the output file\n",
        "Array = []\n",
        "Array.append(sum(Result[0]))\n",
        "Array.append(sum(Result['ini']))\n",
        "\n",
        "Output = pd.DataFrame(Array)\n",
        "Output.to_csv(\"/content/gdrive/My Drive/ML FERRERO/Iraq/Nutella/T350x15/SFA_201848.csv\", sep=',', encoding='utf-8')"
      ],
      "execution_count": 0,
      "outputs": []
    },
    {
      "metadata": {
        "id": "496I1BPKwwPn",
        "colab_type": "text"
      },
      "cell_type": "markdown",
      "source": [
        "**II) Create predictions for the 3 next weeks and train the model on complete data**"
      ]
    },
    {
      "metadata": {
        "id": "_7EgVMQ8tgxh",
        "colab_type": "code",
        "outputId": "dc273613-ce84-4313-a70d-57643987149a",
        "colab": {
          "base_uri": "https://localhost:8080/",
          "height": 34
        }
      },
      "cell_type": "code",
      "source": [
        "# Create predictions for the 3 next weeks\n",
        "Train_pred = pd.read_csv(\"/content/gdrive/My Drive/ML FERRERO/Iraq/Nutella/T350x15/Predictions/Train/IRAQ_NUTELLA_T350x15.csv\")\n",
        "Test_pred = pd.read_csv(\"/content/gdrive/My Drive/ML FERRERO/Iraq/Nutella/T350x15/Predictions/Test/IRAQ_NUTELLA_T350x15.csv\")\n",
        "\n",
        "Train_pred_X, Train_pred_Y = Train_pred.iloc[:,4:6], Train_pred.iloc[:,8:9]\n",
        "Test_pred_X = Test_pred.iloc[:,4:6]\n",
        "\n",
        "# Fit the model\n",
        "model.fit(Train_pred_X, Train_pred_Y, epochs=150, batch_size=10, verbose=0)"
      ],
      "execution_count": 0,
      "outputs": [
        {
          "output_type": "execute_result",
          "data": {
            "text/plain": [
              "<keras.callbacks.History at 0x7ff28f772b00>"
            ]
          },
          "metadata": {
            "tags": []
          },
          "execution_count": 14
        }
      ]
    },
    {
      "metadata": {
        "id": "QgyNm-1lx7up",
        "colab_type": "code",
        "outputId": "80ae921c-72f3-4952-ca28-608db2ba167e",
        "colab": {
          "base_uri": "https://localhost:8080/",
          "height": 68
        }
      },
      "cell_type": "code",
      "source": [
        "# evaluate the model\n",
        "scores_pred = model.evaluate(Train_pred_X, Train_pred_Y)\n",
        "print(\"\\n%s: %.2f\" % (model.metrics_names[1], scores_pred[1]))"
      ],
      "execution_count": 0,
      "outputs": [
        {
          "output_type": "stream",
          "text": [
            "120/120 [==============================] - 0s 84us/step\n",
            "\n",
            "mean_absolute_error: 126.05\n"
          ],
          "name": "stdout"
        }
      ]
    },
    {
      "metadata": {
        "id": "qSfL-J1HyEFZ",
        "colab_type": "code",
        "outputId": "56511c75-03f4-4b26-8204-9b66e666e60d",
        "colab": {
          "base_uri": "https://localhost:8080/",
          "height": 68
        }
      },
      "cell_type": "code",
      "source": [
        "# calculate predictions\n",
        "predictions_3nextweeks = model.predict(Test_pred_X)\n",
        "# round predictions\n",
        "rounded_pred = [round(x[0]) for x in predictions_3nextweeks]\n",
        "print(predictions_3nextweeks)"
      ],
      "execution_count": 0,
      "outputs": [
        {
          "output_type": "stream",
          "text": [
            "[[448.96588 ]\n",
            " [457.1752  ]\n",
            " [ 14.436336]]\n"
          ],
          "name": "stdout"
        }
      ]
    },
    {
      "metadata": {
        "id": "eH5blPeZyxFp",
        "colab_type": "code",
        "colab": {}
      },
      "cell_type": "code",
      "source": [
        "# Create the output file\n",
        "Output_pred = pd.DataFrame(predictions_3nextweeks)\n",
        "Output_pred['Customer'] = Test_pred['Customer']\n",
        "Output_pred['Product_Group'] = Test_pred['Product_Group']\n",
        "Output_pred['Item'] = Test_pred['Item']\n",
        "Output_pred['Year_Nb'] = Test_pred['Year_Nb']\n",
        "Output_pred['Month_Nb'] = Test_pred['Month_Nb']\n",
        "Output_pred['Week_Nb'] = Test_pred['Week_Nb']\n",
        "Output_pred['Year_Week_Nb'] = Test_pred['Year_Week_Nb']\n",
        "Output_pred['Current_Week'] = Test_pred['Current_Week']\n",
        "Output_pred.to_csv(\"/content/gdrive/My Drive/ML FERRERO/Iraq/Nutella/T350x15/predictions_201851.csv\", sep=',', encoding='utf-8')"
      ],
      "execution_count": 0,
      "outputs": []
    }
  ]
}